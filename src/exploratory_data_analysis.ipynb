{
 "cells": [
  {
   "cell_type": "code",
   "execution_count": 1,
   "metadata": {
    "collapsed": true
   },
   "outputs": [],
   "source": [
    "import pandas as pd\n",
    "import matplotlib.pyplot as plt\n",
    "import seaborn as sns\n",
    "%matplotlib inline"
   ]
  },
  {
   "cell_type": "code",
   "execution_count": 2,
   "metadata": {
    "collapsed": true
   },
   "outputs": [],
   "source": [
    "data = pd.read_csv('../data/ramen_pho_count.csv')"
   ]
  },
  {
   "cell_type": "code",
   "execution_count": 3,
   "metadata": {
    "collapsed": false
   },
   "outputs": [
    {
     "data": {
      "text/html": [
       "<div>\n",
       "<table border=\"1\" class=\"dataframe\">\n",
       "  <thead>\n",
       "    <tr style=\"text-align: right;\">\n",
       "      <th></th>\n",
       "      <th>city</th>\n",
       "      <th>state</th>\n",
       "      <th>country</th>\n",
       "      <th>ramen_count</th>\n",
       "      <th>pho_count</th>\n",
       "    </tr>\n",
       "  </thead>\n",
       "  <tbody>\n",
       "    <tr>\n",
       "      <th>0</th>\n",
       "      <td>San Francisco</td>\n",
       "      <td>California</td>\n",
       "      <td>USA</td>\n",
       "      <td>869</td>\n",
       "      <td>596</td>\n",
       "    </tr>\n",
       "    <tr>\n",
       "      <th>1</th>\n",
       "      <td>Toronto</td>\n",
       "      <td>Ontario</td>\n",
       "      <td>Canada</td>\n",
       "      <td>314</td>\n",
       "      <td>282</td>\n",
       "    </tr>\n",
       "    <tr>\n",
       "      <th>2</th>\n",
       "      <td>Vancouver</td>\n",
       "      <td>British Columbia</td>\n",
       "      <td>Canada</td>\n",
       "      <td>303</td>\n",
       "      <td>274</td>\n",
       "    </tr>\n",
       "    <tr>\n",
       "      <th>3</th>\n",
       "      <td>Los Angeles</td>\n",
       "      <td>California</td>\n",
       "      <td>USA</td>\n",
       "      <td>1802</td>\n",
       "      <td>1503</td>\n",
       "    </tr>\n",
       "    <tr>\n",
       "      <th>4</th>\n",
       "      <td>Chicago</td>\n",
       "      <td>Illinois</td>\n",
       "      <td>USA</td>\n",
       "      <td>431</td>\n",
       "      <td>232</td>\n",
       "    </tr>\n",
       "  </tbody>\n",
       "</table>\n",
       "</div>"
      ],
      "text/plain": [
       "            city             state country  ramen_count  pho_count\n",
       "0  San Francisco        California     USA          869        596\n",
       "1        Toronto           Ontario  Canada          314        282\n",
       "2      Vancouver  British Columbia  Canada          303        274\n",
       "3    Los Angeles        California     USA         1802       1503\n",
       "4        Chicago          Illinois     USA          431        232"
      ]
     },
     "execution_count": 3,
     "metadata": {},
     "output_type": "execute_result"
    }
   ],
   "source": [
    "data.head()"
   ]
  },
  {
   "cell_type": "code",
   "execution_count": 4,
   "metadata": {
    "collapsed": false
   },
   "outputs": [
    {
     "data": {
      "text/html": [
       "<div>\n",
       "<table border=\"1\" class=\"dataframe\">\n",
       "  <thead>\n",
       "    <tr style=\"text-align: right;\">\n",
       "      <th></th>\n",
       "      <th>city</th>\n",
       "      <th>state</th>\n",
       "      <th>noodle_type</th>\n",
       "      <th>count</th>\n",
       "    </tr>\n",
       "  </thead>\n",
       "  <tbody>\n",
       "    <tr>\n",
       "      <th>3</th>\n",
       "      <td>Los Angeles</td>\n",
       "      <td>California</td>\n",
       "      <td>ramen</td>\n",
       "      <td>1802</td>\n",
       "    </tr>\n",
       "    <tr>\n",
       "      <th>30</th>\n",
       "      <td>Los Angeles</td>\n",
       "      <td>California</td>\n",
       "      <td>pho</td>\n",
       "      <td>1503</td>\n",
       "    </tr>\n",
       "    <tr>\n",
       "      <th>5</th>\n",
       "      <td>New York</td>\n",
       "      <td>New York</td>\n",
       "      <td>ramen</td>\n",
       "      <td>1501</td>\n",
       "    </tr>\n",
       "    <tr>\n",
       "      <th>0</th>\n",
       "      <td>San Francisco</td>\n",
       "      <td>California</td>\n",
       "      <td>ramen</td>\n",
       "      <td>869</td>\n",
       "    </tr>\n",
       "    <tr>\n",
       "      <th>27</th>\n",
       "      <td>San Francisco</td>\n",
       "      <td>California</td>\n",
       "      <td>pho</td>\n",
       "      <td>596</td>\n",
       "    </tr>\n",
       "  </tbody>\n",
       "</table>\n",
       "</div>"
      ],
      "text/plain": [
       "             city       state noodle_type  count\n",
       "3     Los Angeles  California       ramen   1802\n",
       "30    Los Angeles  California         pho   1503\n",
       "5        New York    New York       ramen   1501\n",
       "0   San Francisco  California       ramen    869\n",
       "27  San Francisco  California         pho    596"
      ]
     },
     "execution_count": 4,
     "metadata": {},
     "output_type": "execute_result"
    }
   ],
   "source": [
    "data = data.rename(columns={'ramen_count': 'ramen', 'pho_count': 'pho'})\n",
    "keys = ['ramen', 'pho']\n",
    "df = pd.melt(data, id_vars=['city', 'state'], value_vars=keys, value_name='count')\n",
    "df = df.rename(columns={'variable': 'noodle_type'})\n",
    "df = df.sort_values(by=['count'], ascending=False)\n",
    "df.head()"
   ]
  },
  {
   "cell_type": "code",
   "execution_count": 5,
   "metadata": {
    "collapsed": false
   },
   "outputs": [
    {
     "data": {
      "text/html": [
       "<div>\n",
       "<table border=\"1\" class=\"dataframe\">\n",
       "  <thead>\n",
       "    <tr style=\"text-align: right;\">\n",
       "      <th></th>\n",
       "      <th>count</th>\n",
       "    </tr>\n",
       "  </thead>\n",
       "  <tbody>\n",
       "    <tr>\n",
       "      <th>count</th>\n",
       "      <td>54.000000</td>\n",
       "    </tr>\n",
       "    <tr>\n",
       "      <th>mean</th>\n",
       "      <td>309.981481</td>\n",
       "    </tr>\n",
       "    <tr>\n",
       "      <th>std</th>\n",
       "      <td>354.627601</td>\n",
       "    </tr>\n",
       "    <tr>\n",
       "      <th>min</th>\n",
       "      <td>39.000000</td>\n",
       "    </tr>\n",
       "    <tr>\n",
       "      <th>25%</th>\n",
       "      <td>103.750000</td>\n",
       "    </tr>\n",
       "    <tr>\n",
       "      <th>50%</th>\n",
       "      <td>228.000000</td>\n",
       "    </tr>\n",
       "    <tr>\n",
       "      <th>75%</th>\n",
       "      <td>311.250000</td>\n",
       "    </tr>\n",
       "    <tr>\n",
       "      <th>max</th>\n",
       "      <td>1802.000000</td>\n",
       "    </tr>\n",
       "  </tbody>\n",
       "</table>\n",
       "</div>"
      ],
      "text/plain": [
       "             count\n",
       "count    54.000000\n",
       "mean    309.981481\n",
       "std     354.627601\n",
       "min      39.000000\n",
       "25%     103.750000\n",
       "50%     228.000000\n",
       "75%     311.250000\n",
       "max    1802.000000"
      ]
     },
     "execution_count": 5,
     "metadata": {},
     "output_type": "execute_result"
    }
   ],
   "source": [
    "df.describe()"
   ]
  },
  {
   "cell_type": "code",
   "execution_count": 6,
   "metadata": {
    "collapsed": false
   },
   "outputs": [
    {
     "data": {
      "image/png": "[encoded data removed]",
      "text/plain": [
       "<matplotlib.figure.Figure at 0x11532e828>"
      ]
     },
     "metadata": {},
     "output_type": "display_data"
    }
   ],
   "source": [
    "g = sns.factorplot(x='city', y='count', hue='noodle_type', data=df, kind='bar', size=10, palette='muted')\n",
    "g.set_ylabels('count')\n",
    "plt.xlabel('city')\n",
    "plt.xticks(rotation=90)\n",
    "fig = plt.gcf()\n",
    "plt.show()\n",
    "fig.savefig('../results/ramen_pho_comparison.png')"
   ]
  },
  {
   "cell_type": "code",
   "execution_count": 27,
   "metadata": {
    "collapsed": false
   },
   "outputs": [],
   "source": [
    "data['total']=data['ramen']+data['pho']\n",
    "data['pho_proportion']=data['pho']/data['total']\n",
    "data['ramen_proportion']=data['ramen']/data['total']\n",
    "data = data[(data.total > 200)]"
   ]
  },
  {
   "cell_type": "code",
   "execution_count": 28,
   "metadata": {
    "collapsed": false
   },
   "outputs": [
    {
     "data": {
      "text/html": [
       "<div>\n",
       "<table border=\"1\" class=\"dataframe\">\n",
       "  <thead>\n",
       "    <tr style=\"text-align: right;\">\n",
       "      <th></th>\n",
       "      <th>city</th>\n",
       "      <th>state</th>\n",
       "      <th>country</th>\n",
       "      <th>ramen</th>\n",
       "      <th>pho</th>\n",
       "      <th>total</th>\n",
       "      <th>pho_proportion</th>\n",
       "      <th>ramen_proportion</th>\n",
       "    </tr>\n",
       "  </thead>\n",
       "  <tbody>\n",
       "    <tr>\n",
       "      <th>18</th>\n",
       "      <td>Minneapolis</td>\n",
       "      <td>Minnesota</td>\n",
       "      <td>USA</td>\n",
       "      <td>94</td>\n",
       "      <td>218</td>\n",
       "      <td>312</td>\n",
       "      <td>0.698718</td>\n",
       "      <td>0.301282</td>\n",
       "    </tr>\n",
       "    <tr>\n",
       "      <th>6</th>\n",
       "      <td>Houston</td>\n",
       "      <td>Texas</td>\n",
       "      <td>USA</td>\n",
       "      <td>227</td>\n",
       "      <td>455</td>\n",
       "      <td>682</td>\n",
       "      <td>0.667155</td>\n",
       "      <td>0.332845</td>\n",
       "    </tr>\n",
       "    <tr>\n",
       "      <th>8</th>\n",
       "      <td>Montreal</td>\n",
       "      <td>Quebec</td>\n",
       "      <td>Canada</td>\n",
       "      <td>103</td>\n",
       "      <td>163</td>\n",
       "      <td>266</td>\n",
       "      <td>0.612782</td>\n",
       "      <td>0.387218</td>\n",
       "    </tr>\n",
       "    <tr>\n",
       "      <th>20</th>\n",
       "      <td>Denver</td>\n",
       "      <td>Colorado</td>\n",
       "      <td>USA</td>\n",
       "      <td>168</td>\n",
       "      <td>256</td>\n",
       "      <td>424</td>\n",
       "      <td>0.603774</td>\n",
       "      <td>0.396226</td>\n",
       "    </tr>\n",
       "    <tr>\n",
       "      <th>16</th>\n",
       "      <td>Seattle</td>\n",
       "      <td>Washington</td>\n",
       "      <td>USA</td>\n",
       "      <td>377</td>\n",
       "      <td>535</td>\n",
       "      <td>912</td>\n",
       "      <td>0.586623</td>\n",
       "      <td>0.413377</td>\n",
       "    </tr>\n",
       "  </tbody>\n",
       "</table>\n",
       "</div>"
      ],
      "text/plain": [
       "           city       state country  ramen  pho  total  pho_proportion  \\\n",
       "18  Minneapolis   Minnesota     USA     94  218    312        0.698718   \n",
       "6       Houston       Texas     USA    227  455    682        0.667155   \n",
       "8      Montreal      Quebec  Canada    103  163    266        0.612782   \n",
       "20       Denver    Colorado     USA    168  256    424        0.603774   \n",
       "16      Seattle  Washington     USA    377  535    912        0.586623   \n",
       "\n",
       "    ramen_proportion  \n",
       "18          0.301282  \n",
       "6           0.332845  \n",
       "8           0.387218  \n",
       "20          0.396226  \n",
       "16          0.413377  "
      ]
     },
     "execution_count": 28,
     "metadata": {},
     "output_type": "execute_result"
    }
   ],
   "source": [
    "top_pho = data.sort_values(by='pho_proportion', ascending=False).head()\n",
    "top_pho"
   ]
  },
  {
   "cell_type": "code",
   "execution_count": 29,
   "metadata": {
    "collapsed": false
   },
   "outputs": [
    {
     "data": {
      "text/html": [
       "<div>\n",
       "<table border=\"1\" class=\"dataframe\">\n",
       "  <thead>\n",
       "    <tr style=\"text-align: right;\">\n",
       "      <th></th>\n",
       "      <th>city</th>\n",
       "      <th>state</th>\n",
       "      <th>country</th>\n",
       "      <th>ramen</th>\n",
       "      <th>pho</th>\n",
       "      <th>total</th>\n",
       "      <th>pho_proportion</th>\n",
       "      <th>ramen_proportion</th>\n",
       "    </tr>\n",
       "  </thead>\n",
       "  <tbody>\n",
       "    <tr>\n",
       "      <th>5</th>\n",
       "      <td>New York</td>\n",
       "      <td>New York</td>\n",
       "      <td>USA</td>\n",
       "      <td>1501</td>\n",
       "      <td>455</td>\n",
       "      <td>1956</td>\n",
       "      <td>0.232618</td>\n",
       "      <td>0.767382</td>\n",
       "    </tr>\n",
       "    <tr>\n",
       "      <th>13</th>\n",
       "      <td>Miami</td>\n",
       "      <td>Florida</td>\n",
       "      <td>USA</td>\n",
       "      <td>143</td>\n",
       "      <td>70</td>\n",
       "      <td>213</td>\n",
       "      <td>0.328638</td>\n",
       "      <td>0.671362</td>\n",
       "    </tr>\n",
       "    <tr>\n",
       "      <th>4</th>\n",
       "      <td>Chicago</td>\n",
       "      <td>Illinois</td>\n",
       "      <td>USA</td>\n",
       "      <td>431</td>\n",
       "      <td>232</td>\n",
       "      <td>663</td>\n",
       "      <td>0.349925</td>\n",
       "      <td>0.650075</td>\n",
       "    </tr>\n",
       "    <tr>\n",
       "      <th>0</th>\n",
       "      <td>San Francisco</td>\n",
       "      <td>California</td>\n",
       "      <td>USA</td>\n",
       "      <td>869</td>\n",
       "      <td>596</td>\n",
       "      <td>1465</td>\n",
       "      <td>0.406826</td>\n",
       "      <td>0.593174</td>\n",
       "    </tr>\n",
       "    <tr>\n",
       "      <th>12</th>\n",
       "      <td>Boston</td>\n",
       "      <td>Massachusetts</td>\n",
       "      <td>USA</td>\n",
       "      <td>246</td>\n",
       "      <td>195</td>\n",
       "      <td>441</td>\n",
       "      <td>0.442177</td>\n",
       "      <td>0.557823</td>\n",
       "    </tr>\n",
       "  </tbody>\n",
       "</table>\n",
       "</div>"
      ],
      "text/plain": [
       "             city          state country  ramen  pho  total  pho_proportion  \\\n",
       "5        New York       New York     USA   1501  455   1956        0.232618   \n",
       "13          Miami        Florida     USA    143   70    213        0.328638   \n",
       "4         Chicago       Illinois     USA    431  232    663        0.349925   \n",
       "0   San Francisco     California     USA    869  596   1465        0.406826   \n",
       "12         Boston  Massachusetts     USA    246  195    441        0.442177   \n",
       "\n",
       "    ramen_proportion  \n",
       "5           0.767382  \n",
       "13          0.671362  \n",
       "4           0.650075  \n",
       "0           0.593174  \n",
       "12          0.557823  "
      ]
     },
     "execution_count": 29,
     "metadata": {},
     "output_type": "execute_result"
    }
   ],
   "source": [
    "top_ramen = data.sort_values(by='pho_proportion').head()\n",
    "top_ramen"
   ]
  }
 ],
 "metadata": {
  "anaconda-cloud": {},
  "kernelspec": {
   "display_name": "Python [default]",
   "language": "python",
   "name": "python3"
  },
  "language_info": {
   "codemirror_mode": {
    "name": "ipython",
    "version": 3
   },
   "file_extension": ".py",
   "mimetype": "text/x-python",
   "name": "python",
   "nbconvert_exporter": "python",
   "pygments_lexer": "ipython3",
   "version": "3.5.2"
  }
 },
 "nbformat": 4,
 "nbformat_minor": 2
}
